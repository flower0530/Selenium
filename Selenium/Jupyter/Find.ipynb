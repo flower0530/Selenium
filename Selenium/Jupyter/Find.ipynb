{
 "cells": [
  {
   "cell_type": "code",
   "execution_count": null,
   "id": "initial_id",
   "metadata": {
    "collapsed": true
   },
   "outputs": [],
   "source": [
    "# findByID\n",
    "from selenium import webdriver\n",
    "from selenium.webdriver.common.by import By\n",
    "\n",
    "wd = webdriver.Edge()\n",
    "wd.get(\"https://www.byhy.net/cdn2/files/selenium/stock1.html\")\n",
    "\n",
    "ele = wd.find_element(By.ID,\"go\")\n",
    "\n",
    "print(\"根据ID查找到ID名为“go”的是:\\n\" + ele.text)\n",
    "print(ele)\n",
    "\n",
    "wd.quit()"
   ]
  },
  {
   "metadata": {},
   "cell_type": "code",
   "outputs": [],
   "execution_count": null,
   "source": [
    "# findByClass\n",
    "import time\n",
    "\n",
    "from selenium import webdriver\n",
    "from selenium.webdriver.common.by import By\n",
    "\n",
    "wd = webdriver.Edge()\n",
    "wd.get(\"https://www.unixde.com\")\n",
    "\n",
    "wd.implicitly_wait(5)\n",
    "\n",
    "elements = wd.find_elements(By.CLASS_NAME,\"zz-submenu\")\n",
    "print(\"根据ID查找到Class名为“zz-submenu”的是:\")\n",
    "print(elements)\n",
    "\n",
    "count_all = 0\n",
    "count_value = 0\n",
    "\n",
    "for ele in elements:\n",
    "    count_all += 1\n",
    "    if ele.text:\n",
    "        print(ele.text)\n",
    "        count_value += 1\n",
    "\n",
    "print(\"总条数：\" + str(count_all))\n",
    "print(\"非空条数：\" + str(count_value))\n",
    "\n",
    "time.sleep(10)\n",
    "wd.quit()"
   ],
   "id": "244bd4830b3a7a93"
  },
  {
   "metadata": {},
   "cell_type": "code",
   "outputs": [],
   "execution_count": null,
   "source": [
    "# findByTag\n",
    "import time\n",
    "\n",
    "from selenium import webdriver\n",
    "from selenium.webdriver.common.by import By\n",
    "\n",
    "\n",
    "wd = webdriver.Edge()\n",
    "wd.get(\"https://www.unixde.com\")\n",
    "\n",
    "wd.implicitly_wait(5)\n",
    "time.sleep(3)\n",
    "\n",
    "elements = wd.find_elements(By.TAG_NAME,\"div\")\n",
    "print(\"获取的元素个数为：\" + str(len(elements)))\n",
    "\n",
    "print(\"有内容的元素如下:\")\n",
    "\n",
    "count = 0\n",
    "i = 1\n",
    "\n",
    "for ele in elements:\n",
    "    if ele.text:\n",
    "        print(  \"第\" + str(i) + \"个元素的文本内容为：\" + ele.text)\n",
    "        count += 1\n",
    "    i += 1\n",
    "\n",
    "print(\"总共有内容的条数为：\" + str(count) + \"条\")\n",
    "\n",
    "time.sleep(3)\n",
    "wd.quit()"
   ],
   "id": "cfa4ce0e116c879c"
  }
 ],
 "metadata": {
  "kernelspec": {
   "display_name": "Python 3",
   "language": "python",
   "name": "python3"
  },
  "language_info": {
   "codemirror_mode": {
    "name": "ipython",
    "version": 2
   },
   "file_extension": ".py",
   "mimetype": "text/x-python",
   "name": "python",
   "nbconvert_exporter": "python",
   "pygments_lexer": "ipython2",
   "version": "2.7.6"
  }
 },
 "nbformat": 4,
 "nbformat_minor": 5
}
