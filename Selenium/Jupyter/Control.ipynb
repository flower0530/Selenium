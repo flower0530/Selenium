{
 "cells": [
  {
   "cell_type": "code",
   "execution_count": null,
   "id": "initial_id",
   "metadata": {
    "collapsed": true
   },
   "outputs": [],
   "source": [
    "# 属性打印，清除，点击...\n",
    "import time\n",
    "\n",
    "from selenium import webdriver\n",
    "from selenium.webdriver.common.by import By\n",
    "\n",
    "wd = webdriver.Edge()\n",
    "wd.implicitly_wait(3)\n",
    "wd.get(\"http://192.168.2.80:9529/login\")\n",
    "time.sleep(1)\n",
    "\n",
    "# 获取元素\n",
    "elements = wd.find_elements(By.CLASS_NAME,\"el-input__inner\")\n",
    "username = elements[0]\n",
    "password = elements[1]\n",
    "code = elements[2]\n",
    "loginIn = wd.find_elements(By.CLASS_NAME,\"el-button\")[0]\n",
    "\n",
    "# 打印元素属性\n",
    "print(\"用户名输入框的“placeholder”属性为：\" + username.get_attribute('placeholder'))  # 指定属性\n",
    "print(\"登录按钮的“outerHTML”属性为：\" + loginIn.get_attribute('outerHTML'))  # 全部属性\n",
    "print(\"登录按钮的“innerHTML”属性为：\" + loginIn.get_attribute('innerHTML'))  # 内部属性\n",
    "print(\"登录按钮的“text”属性为：\" + loginIn.text)  # text属性\n",
    "print(\"登录按钮的“innerText”属性为：\" + loginIn.get_attribute('innerText'))  # innerText属性\n",
    "print(\"登录按钮的“textContent”属性为：\" + loginIn.get_attribute('textContent'))  # textContent属性\n",
    "\n",
    "# 输入内容\n",
    "username.send_keys(\"Superadmin\")\n",
    "password.send_keys(\"soyotec@00\")\n",
    "# 展示清除效果\n",
    "time.sleep(1)\n",
    "password.clear()\n",
    "time.sleep(1)\n",
    "password.send_keys(\"soyotec@00\")\n",
    "# 等待，手动输入验证码\n",
    "time.sleep(6)\n",
    "\n",
    "# 点击元素\n",
    "loginIn.click()\n",
    "time.sleep(3)\n",
    "wd.refresh()\n",
    "\n",
    "# 关闭\n",
    "time.sleep(10)\n",
    "wd.quit()"
   ]
  }
 ],
 "metadata": {
  "kernelspec": {
   "display_name": "Python 3",
   "language": "python",
   "name": "python3"
  },
  "language_info": {
   "codemirror_mode": {
    "name": "ipython",
    "version": 2
   },
   "file_extension": ".py",
   "mimetype": "text/x-python",
   "name": "python",
   "nbconvert_exporter": "python",
   "pygments_lexer": "ipython2",
   "version": "2.7.6"
  }
 },
 "nbformat": 4,
 "nbformat_minor": 5
}
