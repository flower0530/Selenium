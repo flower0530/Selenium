{
 "cells": [
  {
   "cell_type": "code",
   "id": "initial_id",
   "metadata": {
    "collapsed": true,
    "ExecuteTime": {
     "end_time": "2025-09-28T09:50:28.815077Z",
     "start_time": "2025-09-28T09:50:22.128547Z"
    }
   },
   "source": [
    "import time\n",
    "# 导入selenium包\n",
    "from selenium import webdriver\n",
    "from selenium.webdriver.common.by import By\n",
    "\n",
    "\n",
    "# 打开Chome浏览器\n",
    "browser = webdriver.Chrome()\n",
    "# 停留三秒\n",
    "time.sleep()\n",
    "# 关闭浏览器\n",
    "browser.quit()"
   ],
   "outputs": [],
   "execution_count": 2
  },
  {
   "metadata": {
    "ExecuteTime": {
     "end_time": "2025-09-28T09:58:53.718646Z",
     "start_time": "2025-09-28T09:58:45.183511Z"
    }
   },
   "cell_type": "code",
   "source": [
    "browser = webdriver.Chrome()\n",
    "browser.get(\"www.baidu.com\")\n",
    "time.sleep(5)\n",
    "browser.quit()"
   ],
   "id": "3088703290836449",
   "outputs": [],
   "execution_count": 7
  },
  {
   "metadata": {},
   "cell_type": "code",
   "source": [
    "from selenium import webdriver  # 需要添加这一行来导入webdriver\n",
    "from selenium.webdriver.support.wait import WebDriverWait\n",
    "from selenium.webdriver.common.by import By\n",
    "from selenium.webdriver.support import expected_conditions as EC  # 也需要导入expected_conditions\n",
    "import time\n",
    "browser = webdriver.Chrome()\n",
    "browser.get(\"http://192.168.2.80:9530/login\")\n",
    "\n",
    "time.sleep(3)\n",
    "\n",
    "# 1. 账号输入框（第一个）\n",
    "username_input = browser.find_elements(By.CLASS_NAME, \"el-input__inner\")[0]\n",
    "username_input.send_keys(\"Superadmin\")\n",
    "\n",
    "# 2. 密码输入框（第二个）\n",
    "password_input = browser.find_elements(By.CLASS_NAME, \"el-input__inner\")[1]\n",
    "password_input.send_keys(\"soyotec@00\")  # 替换为真实密码\n",
    "\n",
    "# # 验证码，需手动输入\n",
    "# time.sleep(6)\n",
    "\n",
    "# 点击登录按钮\n",
    "# login_button = WebDriverWait(browser, 10).until(\n",
    "#     EC.element_to_be_clickable((By.XPATH, \"//button[@class='el-button login-submit']//span[contains(., '登录')]\"))\n",
    "# )\n",
    "# login_button.click()\n",
    "\n",
    "time.sleep(5)\n",
    "\n",
    "browser.quit()"
   ],
   "id": "1728c51a5caa2ec8",
   "outputs": [],
   "execution_count": null
  },
  {
   "metadata": {
    "ExecuteTime": {
     "end_time": "2025-09-29T03:54:24.286226Z",
     "start_time": "2025-09-29T03:54:09.093947Z"
    }
   },
   "cell_type": "code",
   "source": [
    "from selenium import webdriver  # 需要添加这一行来导入webdriver\n",
    "import time\n",
    "from selenium.webdriver.common.by import By\n",
    "\n",
    "browser1 = webdriver.Chrome()\n",
    "browser1.get(\"http://192.168.2.80:9530/login\")\n",
    "\n",
    "# 窗口最大化\n",
    "browser1.maximize_window()\n",
    "time.sleep(3)\n",
    "\n",
    "# 窗口最小化\n",
    "browser1.minimize_window()\n",
    "time.sleep(3)\n",
    "\n",
    "# 设置窗口\n",
    "browser1.set_window_size(1200,800)\n",
    "browser1.implicitly_wait(10)\n",
    "\n",
    "# 输入内容\n",
    "username = browser1.find_elements(By.CLASS_NAME,\"el-input__inner\")[0]\n",
    "username.send_keys(\"Superadmin\")\n",
    "\n",
    "password = browser1.find_elements(By.CLASS_NAME,\"el-input__inner\")[1]\n",
    "password.send_keys(\"soyotec@00\")\n",
    "\n",
    "time.sleep(3)\n",
    "\n",
    "title = browser1.title\n",
    "page_source = browser1.page_source\n",
    "url = browser1.current_url\n",
    "\n",
    "# 打印\n",
    "print(\"标题:\" + title)\n",
    "print(\"URL:\" + url)\n",
    "print(\"代码:\" + page_source[:1000])\n",
    "\n",
    "browser1.quit()"
   ],
   "id": "b80c4e8e12d45b50",
   "outputs": [
    {
     "name": "stdout",
     "output_type": "stream",
     "text": [
      "标题:UniXDE：多学科综合设计环境\n",
      "URL:http://192.168.2.80:9530/login\n",
      "代码:<html class=\" \"><head><meta charset=\"utf-8\"><meta http-equiv=\"X-UA-Compatible\" content=\"IE=edge,chrome=1\"><meta name=\"renderer\" content=\"webkit\"><meta name=\"viewport\" content=\"width=device-width,initial-scale=1,maximum-scale=1,user-scalable=no\"><title>UniXDE：多学科综合设计环境</title><style>html,\n",
      "      body,\n",
      "      #app {\n",
      "        height: 100%;\n",
      "        margin: 0px;\n",
      "        padding: 0px;\n",
      "        overflow: hidden;\n",
      "      }\n",
      "      #c-cus-start-loading {\n",
      "        position: fixed;\n",
      "        top: 0;\n",
      "        left: 0;\n",
      "        width: 100%;\n",
      "        height: 100%;\n",
      "        z-index: 999999;\n",
      "        background: #FFF;\n",
      "        background-size: 100% 100%;\n",
      "        display: flex;\n",
      "        justify-content: center;\n",
      "        align-items: center;\n",
      "      }\n",
      "      #loader {\n",
      "        position: relative;\n",
      "        width: 34px;\n",
      "        height: 34px;\n",
      "        border: 3px solid #1664B5;\n",
      "        border-top-color: #F5F5F5!important;\n",
      "        border-right-color: #F5F5F5!important;\n",
      "        border-bottom-color: #F5F5F5!important;\n",
      "        border-\n"
     ]
    }
   ],
   "execution_count": 14
  },
  {
   "metadata": {},
   "cell_type": "code",
   "source": [
    "browser2 = webdriver.Chrome()\n",
    "browser2.get(\"https://www.baidu.com\")\n",
    "time.sleep(3)\n",
    "browser2.get(\"https://www.tencent.com\")\n",
    "time.sleep(3)\n",
    "\n",
    "browser2.back()\n",
    "time.sleep(2)\n",
    "browser2.forward()\n",
    "browser2.refresh()\n",
    "time.sleep(2)\n",
    "\n",
    "browser2.quit()\n"
   ],
   "id": "4fce92c05abf0bda",
   "outputs": [],
   "execution_count": null
  },
  {
   "metadata": {
    "ExecuteTime": {
     "end_time": "2025-09-29T06:49:32.956964Z",
     "start_time": "2025-09-29T06:48:56.879682Z"
    }
   },
   "cell_type": "code",
   "source": [
    "browser3 = webdriver.Edge()\n",
    "browser3.get(\"https://www.tencent.com\")\n",
    "\n",
    "print(\"当前页句柄:\" + browser3.current_window_handle)\n",
    "time.sleep(3)\n",
    "browser3.quit()"
   ],
   "id": "30be43be9c528fbb",
   "outputs": [
    {
     "name": "stdout",
     "output_type": "stream",
     "text": [
      "当前页句柄:B38101BD9F03D162FCCA70D8F83C6166\n"
     ]
    }
   ],
   "execution_count": 23
  },
  {
   "metadata": {},
   "cell_type": "code",
   "outputs": [],
   "execution_count": null,
   "source": [
    "from selenium import webdriver  # 需要添加这一行来导入webdriver\n",
    "import time\n",
    "\n",
    "# 加上参数，禁止 chromedriver 日志写屏\n",
    "options = webdriver.EdgeOptions()\n",
    "options.add_experimental_option(\n",
    "    'excludeSwitches', ['enable-logging'])\n",
    "\n",
    "browser3 = webdriver.Edge(options = options)\n",
    "browser3.get(\"https://www.tencent.com\")\n",
    "\n",
    "print(\"当前页句柄:\" + browser3.current_window_handle)\n",
    "time.sleep(3)\n",
    "browser3.quit()"
   ],
   "id": "2be1083a407ba79d"
  }
 ],
 "metadata": {
  "kernelspec": {
   "display_name": "Python 3",
   "language": "python",
   "name": "python3"
  },
  "language_info": {
   "codemirror_mode": {
    "name": "ipython",
    "version": 2
   },
   "file_extension": ".py",
   "mimetype": "text/x-python",
   "name": "python",
   "nbconvert_exporter": "python",
   "pygments_lexer": "ipython2",
   "version": "2.7.6"
  }
 },
 "nbformat": 4,
 "nbformat_minor": 5
}
